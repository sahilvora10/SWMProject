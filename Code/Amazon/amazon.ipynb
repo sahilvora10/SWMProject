{
 "cells": [
  {
   "cell_type": "markdown",
   "id": "bdfe47ed",
   "metadata": {},
   "source": [
    "# Importing libraries"
   ]
  },
  {
   "cell_type": "code",
   "execution_count": 7,
   "id": "795b388d",
   "metadata": {},
   "outputs": [],
   "source": [
    "from bs4 import BeautifulSoup\n",
    "import re # import Regular expression operations module\n",
    "import requests\n",
    "from time import gmtime, strftime\n",
    "import time\n",
    "import pandas as pd\n",
    "import datetime\n",
    "from bs4 import Tag"
   ]
  },
  {
   "cell_type": "markdown",
   "id": "7e281772",
   "metadata": {},
   "source": [
    "# Functions to import data attributes"
   ]
  },
  {
   "cell_type": "code",
   "execution_count": 3,
   "id": "94e38979",
   "metadata": {},
   "outputs": [],
   "source": [
    "def get_data_asin(bsElement: Tag) -> str:\n",
    "    data_asin = bsElement.attrs['data-asin']\n",
    "    return str(data_asin)\n",
    "\n",
    "def get_data_uuid(bsElement: Tag) -> str:\n",
    "    data_uuid = bsElement.attrs['data-uuid']\n",
    "    return str(data_uuid)\n",
    "\n",
    "def get_hyperlink(bsElement: Tag) -> str:\n",
    "    hyperlink = 'https://www.amazon.com'+bsElement.find('a',attrs={'class':'a-link-normal s-underline-text s-underline-link-text s-link-style a-text-normal'}).attrs['href']\n",
    "    return str(hyperlink)\n",
    "\n",
    "def get_product_name(bsElement: Tag) -> str:\n",
    "    product_name = bsElement.find_all('span',attrs={'class':'a-size-medium a-color-base a-text-normal'})[0].text\n",
    "    return str(product_name)\n",
    "\n",
    "def get_product_image(bsElement: Tag) -> str:\n",
    "    product_image = bsElement.find('img',attrs={'class':'s-image'}).attrs['src']\n",
    "    return product_image\n",
    "\n",
    "def get_product_ratings(bsElement: Tag) -> str:\n",
    "    product_rating = bsElement.find('span',attrs={'class':'a-icon-alt'}).text if main_div[i].find('span',attrs={'class':'a-icon-alt'}) else ' '\n",
    "    return str(product_rating.split(\" \")[0])\n",
    "\n",
    "def get_total_reviews(bsElement: Tag) -> str:\n",
    "    totalReviews = bsElement.find('span',attrs={'class':'a-size-base s-underline-text'}).text if main_div[i].find('span',attrs={'class':'a-size-base s-underline-text'}) else ' '\n",
    "    return str(totalReviews)\n",
    "\n",
    "def get_product_price(bsElement: Tag) -> str:\n",
    "    product_price = bsElement.find('span',attrs={'class':'a-price-whole'}).text + main_div[i].find('span',attrs={'class':'a-price-fraction'}).text if main_div[i].find('span',attrs={'class':'a-price-whole'}) else ' '\n",
    "    return str(product_price)"
   ]
  },
  {
   "cell_type": "markdown",
   "id": "3ebba7c0",
   "metadata": {},
   "source": [
    "# Funtion to get product details"
   ]
  },
  {
   "cell_type": "code",
   "execution_count": 4,
   "id": "c7c27c57",
   "metadata": {},
   "outputs": [],
   "source": [
    "def get_product_details(bsElement: Tag) -> dict:\n",
    "    return {\n",
    "        \"data_asin\": get_data_asin(bsElement),\n",
    "        \"data_uuid\": get_data_uuid(bsElement),\n",
    "        \"hyperlink\": get_hyperlink(bsElement),\n",
    "        \"product_name\": get_product_name(bsElement),\n",
    "        \"product_image\": get_product_image(bsElement),\n",
    "        \"product_rating\": get_product_ratings(bsElement),\n",
    "        \"totalReviews\": get_total_reviews(bsElement),\n",
    "        \"product_price\": get_product_price(bsElement)\n",
    "    }"
   ]
  },
  {
   "cell_type": "markdown",
   "id": "ad7fd0a0",
   "metadata": {},
   "source": [
    "# Amazon Data Scraping"
   ]
  },
  {
   "cell_type": "code",
   "execution_count": 5,
   "id": "c1e37fb8",
   "metadata": {},
   "outputs": [
    {
     "name": "stdout",
     "output_type": "stream",
     "text": [
      "https://www.amazon.com/s?k=iphone&page=1&ref=sr_pg_1\n",
      "https://www.amazon.com/s?k=iphone&page=2&ref=sr_pg_2\n",
      "https://www.amazon.com/s?k=iphone&page=3&ref=sr_pg_3\n",
      "https://www.amazon.com/s?k=iphone&page=4&ref=sr_pg_4\n",
      "https://www.amazon.com/s?k=iphone&page=5&ref=sr_pg_5\n",
      "https://www.amazon.com/s?k=iphone&page=6&ref=sr_pg_6\n",
      "https://www.amazon.com/s?k=iphone&page=7&ref=sr_pg_7\n",
      "https://www.amazon.com/s?k=iphone&page=8&ref=sr_pg_8\n",
      "https://www.amazon.com/s?k=iphone&page=9&ref=sr_pg_9\n",
      "https://www.amazon.com/s?k=iphone&page=10&ref=sr_pg_10\n",
      "https://www.amazon.com/s?k=iphone&page=11&ref=sr_pg_11\n",
      "https://www.amazon.com/s?k=iphone&page=12&ref=sr_pg_12\n",
      "https://www.amazon.com/s?k=iphone&page=13&ref=sr_pg_13\n",
      "https://www.amazon.com/s?k=iphone&page=14&ref=sr_pg_14\n",
      "https://www.amazon.com/s?k=iphone&page=15&ref=sr_pg_15\n",
      "https://www.amazon.com/s?k=iphone&page=16&ref=sr_pg_16\n",
      "https://www.amazon.com/s?k=iphone&page=17&ref=sr_pg_17\n",
      "https://www.amazon.com/s?k=iphone&page=18&ref=sr_pg_18\n",
      "https://www.amazon.com/s?k=iphone&page=19&ref=sr_pg_19\n",
      "The time of execution of above program is : 218956.9137096405 ms\n"
     ]
    }
   ],
   "source": [
    "HEADERS = {\n",
    "    'Accept-Encoding': 'gzip, deflate, br',\n",
    "    'Connection': 'keep-alive',\n",
    "    'User-Agent': 'Mozilla/5.0 (Macintosh; Intel Mac OS X 10.14; rv:67.0) Gecko/20100101 Firefox/67.0',\n",
    "    \"accept-language\": \"en\"\n",
    "}\n",
    "start = time.time()\n",
    "all_results = []\n",
    "for i in range(1,20):\n",
    "    URL = 'https://www.amazon.com/s?k=iphone&page={}&ref=sr_pg_{}'.format(i,i)\n",
    "    print(URL)\n",
    "    page = requests.get(URL, headers=HEADERS)\n",
    "    if page.status_code == 200:\n",
    "        product_page = BeautifulSoup(page.text, \"html.parser\")\n",
    "        main_div = product_page.find_all(\"div\", attrs={\"data-component-type\": \"s-search-result\"})\n",
    "        for i in range(len(main_div)):   \n",
    "            data = get_product_details(main_div[i])\n",
    "            all_results.append(data)\n",
    "#     print('Sleeping between Requests')\n",
    "    time.sleep(10)\n",
    "end = time.time()\n",
    "total_time = end-start\n",
    "print(\"The time of execution of above program is :\",\n",
    "      (total_time) * 10**3, \"ms\")"
   ]
  },
  {
   "cell_type": "markdown",
   "id": "a5fed65e",
   "metadata": {},
   "source": [
    "# Saving results to a csv file"
   ]
  },
  {
   "cell_type": "code",
   "execution_count": 6,
   "id": "9c38fdef",
   "metadata": {},
   "outputs": [],
   "source": [
    "filename = \"amazon_products.csv\"\n",
    "f = open(filename, \"w\", encoding='utf-8')\n",
    "out = pd.DataFrame.from_records(all_results)\n",
    "save_name = \"products_amazon.csv\"\n",
    "# save_name = f\"{datetime.now().strftime('%Y-%m-%d-%m')}.csv\"\n",
    "# logging.info(f\"saving to {save_name}\")\n",
    "out.to_csv(save_name)"
   ]
  }
 ],
 "metadata": {
  "kernelspec": {
   "display_name": "Python 3 (ipykernel)",
   "language": "python",
   "name": "python3"
  },
  "language_info": {
   "codemirror_mode": {
    "name": "ipython",
    "version": 3
   },
   "file_extension": ".py",
   "mimetype": "text/x-python",
   "name": "python",
   "nbconvert_exporter": "python",
   "pygments_lexer": "ipython3",
   "version": "3.9.13"
  }
 },
 "nbformat": 4,
 "nbformat_minor": 5
}
